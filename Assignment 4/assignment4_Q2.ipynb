{
 "cells": [
  {
   "cell_type": "code",
   "execution_count": 39,
   "metadata": {},
   "outputs": [
    {
     "name": "stdout",
     "output_type": "stream",
     "text": [
      "\n",
      "==================================================\n",
      "==================================================\n",
      "ML-Assignment 4-Question 2\n",
      "==================================================\n",
      "==================================================\n"
     ]
    }
   ],
   "source": [
    "# load necessary libraries\n",
    "import pandas\n",
    "import numpy\n",
    "import scipy\n",
    "import statsmodels.api as stats\n",
    "from sklearn import naive_bayes\n",
    "\n",
    "print()\n",
    "print(\"=\" * 50)\n",
    "print(\"=\" * 50)\n",
    "print(\"ML-Assignment 4-Question 2\")\n",
    "print(\"=\" * 50)\n",
    "print(\"=\" * 50)\n",
    "# Please answer the following questions based on your model."
   ]
  },
  {
   "cell_type": "code",
   "execution_count": 40,
   "metadata": {},
   "outputs": [],
   "source": [
    "# define a function to visualize the percent of a particular target category by a nominal predictor\n",
    "def row_with_column (rowVar, columnVar, show = 'ROW'):\n",
    "\n",
    "    countTable = pandas.crosstab(index = rowVar, columns = columnVar, margins = False, dropna = True)\n",
    "    print(\"Frequency Table: \\n\", countTable)\n",
    "    print( )\n",
    "\n",
    "    if (show == 'ROW' or show == 'BOTH'):\n",
    "        rowFraction = countTable.div(countTable.sum(1), axis='index')\n",
    "        print(\"Row Fraction Table: \\n\", rowFraction)\n",
    "        print( )\n",
    "\n",
    "    if (show == 'COLUMN' or show == 'BOTH'):\n",
    "        columnFraction = countTable.div(countTable.sum(0), axis='columns')\n",
    "        print(\"Column Fraction Table: \\n\", columnFraction)\n",
    "        print( )\n",
    "\n",
    "    return"
   ]
  },
  {
   "cell_type": "code",
   "execution_count": 41,
   "metadata": {},
   "outputs": [],
   "source": [
    "# load data file\n",
    "purchase_likelihood = pandas.read_csv('Purchase_Likelihood.csv', delimiter=',', usecols=['group_size', 'homeowner', 'married_couple', 'A'])\n",
    "purchase_likelihood = purchase_likelihood.dropna()\n",
    "\n",
    "# create category and interval variable list\n",
    "cat_pred = ['group_size', 'homeowner', 'married_couple']\n",
    "int_pred = cat_pred"
   ]
  },
  {
   "cell_type": "code",
   "execution_count": 42,
   "metadata": {},
   "outputs": [
    {
     "name": "stdout",
     "output_type": "stream",
     "text": [
      "\n",
      "==================================================\n",
      "ML-Assignment 4-Question 2-Section a)\n",
      "==================================================\n",
      "    count  class probability\n",
      "A                           \n",
      "0  143691           0.215996\n",
      "1  426067           0.640462\n",
      "2   95491           0.143542\n"
     ]
    }
   ],
   "source": [
    "print()\n",
    "print(\"=\" * 50)\n",
    "print(\"ML-Assignment 4-Question 2-Section a)\")\n",
    "print(\"=\" * 50)\n",
    "# a)\t(5 points) Show in a table the frequency counts and the Class Probabilities of the target variable.\n",
    "freq = purchase_likelihood.groupby('A').size()\n",
    "table = pandas.DataFrame(columns = ['count', 'class probability'])\n",
    "table['count'] = freq\n",
    "table['class probability'] = table['count']/purchase_likelihood.shape[0]\n",
    "print(table)"
   ]
  },
  {
   "cell_type": "code",
   "execution_count": 43,
   "metadata": {},
   "outputs": [
    {
     "name": "stdout",
     "output_type": "stream",
     "text": [
      "\n",
      "==================================================\n",
      "ML-Assignment 4-Question 2-Section b)\n",
      "==================================================\n",
      "Frequency Table: \n",
      " group_size       1      2     3    4\n",
      "A                                   \n",
      "0           115460  25728  2282  221\n",
      "1           329552  91065  5069  381\n",
      "2            74293  19600  1505   93\n",
      "\n",
      "Row Fraction Table: \n",
      " group_size         1         2         3         4\n",
      "A                                                 \n",
      "0           0.803530  0.179051  0.015881  0.001538\n",
      "1           0.773475  0.213734  0.011897  0.000894\n",
      "2           0.778010  0.205255  0.015761  0.000974\n",
      "\n"
     ]
    }
   ],
   "source": [
    "print()\n",
    "print(\"=\" * 50)\n",
    "print(\"ML-Assignment 4-Question 2-Section b)\")\n",
    "print(\"=\" * 50)\n",
    "# b)\t(5 points) Show the crosstabulation table of the target variable by the feature group_size.  The table contains the frequency counts.\n",
    "row_with_column(purchase_likelihood['A'],purchase_likelihood['group_size'],'ROW')"
   ]
  },
  {
   "cell_type": "code",
   "execution_count": 44,
   "metadata": {},
   "outputs": [
    {
     "name": "stdout",
     "output_type": "stream",
     "text": [
      "\n",
      "==================================================\n",
      "ML-Assignment 4-Question 2-Section c)\n",
      "==================================================\n",
      "Frequency Table: \n",
      " homeowner       0       1\n",
      "A                        \n",
      "0           78659   65032\n",
      "1          183130  242937\n",
      "2           46734   48757\n",
      "\n",
      "Row Fraction Table: \n",
      " homeowner         0         1\n",
      "A                            \n",
      "0          0.547418  0.452582\n",
      "1          0.429815  0.570185\n",
      "2          0.489407  0.510593\n",
      "\n"
     ]
    }
   ],
   "source": [
    "print()\n",
    "print(\"=\" * 50)\n",
    "print(\"ML-Assignment 4-Question 2-Section c)\")\n",
    "print(\"=\" * 50)\n",
    "# c)\t(5 points) Show the crosstabulation table of the target variable by the feature homeowner.  The table contains the frequency counts.\n",
    "row_with_column(purchase_likelihood['A'],purchase_likelihood['homeowner'],'ROW')"
   ]
  },
  {
   "cell_type": "code",
   "execution_count": 45,
   "metadata": {},
   "outputs": [
    {
     "name": "stdout",
     "output_type": "stream",
     "text": [
      "\n",
      "==================================================\n",
      "ML-Assignment 4-Question 2-Section d)\n",
      "==================================================\n",
      "Frequency Table: \n",
      " married_couple       0      1\n",
      "A                            \n",
      "0               117110  26581\n",
      "1               333272  92795\n",
      "2                75310  20181\n",
      "\n",
      "Row Fraction Table: \n",
      " married_couple         0         1\n",
      "A                                 \n",
      "0               0.815013  0.184987\n",
      "1               0.782206  0.217794\n",
      "2               0.788661  0.211339\n",
      "\n"
     ]
    }
   ],
   "source": [
    "print()\n",
    "print(\"=\" * 50)\n",
    "print(\"ML-Assignment 4-Question 2-Section d)\")\n",
    "print(\"=\" * 50)\n",
    "# d)\t(5 points) Show the crosstabulation table of the target variable by the feature married_couple.  The table contains the frequency counts.\n",
    "row_with_column(purchase_likelihood['A'],purchase_likelihood['married_couple'],'ROW')"
   ]
  },
  {
   "cell_type": "code",
   "execution_count": 46,
   "metadata": {},
   "outputs": [],
   "source": [
    "# define a function that performs the Chi-square test\n",
    "def chi_square_test (x_cat, y_cat, debug = 'N'):\n",
    "\n",
    "    obs_count = pandas.crosstab(index = x_cat, columns = y_cat, margins = False, dropna = True)\n",
    "    c_total = obs_count.sum(axis = 1)\n",
    "    r_total = obs_count.sum(axis = 0)\n",
    "    n_total = numpy.sum(r_total)\n",
    "    exp_count = numpy.outer(c_total, (r_total / n_total))\n",
    "\n",
    "    if (debug == 'Y'):\n",
    "        print('Observed Count:\\n', obs_count)\n",
    "        print('Column Total:\\n', c_total)\n",
    "        print('Row Total:\\n', r_total)\n",
    "        print('Overall Total:\\n', n_total)\n",
    "        print('Expected Count:\\n', exp_count)\n",
    "        print('\\n')\n",
    "       \n",
    "    chi_sq_stat = ((obs_count - exp_count)**2 / exp_count).to_numpy().sum()\n",
    "    chi_sq_df = (obs_count.shape[0] - 1.0) * (obs_count.shape[1] - 1.0)\n",
    "    chi_sq_sig = scipy.stats.chi2.sf(chi_sq_stat, chi_sq_df)\n",
    "\n",
    "    cramer_v = chi_sq_stat / n_total\n",
    "    if (c_total.size > r_total.size):\n",
    "        cramer_v = cramer_v / (r_total.size - 1.0)\n",
    "    else:\n",
    "        cramer_v = cramer_v / (c_total.size - 1.0)\n",
    "    cramer_v = numpy.sqrt(cramer_v)\n",
    "\n",
    "    return(chi_sq_stat, chi_sq_df, chi_sq_sig, cramer_v)"
   ]
  },
  {
   "cell_type": "code",
   "execution_count": 51,
   "metadata": {},
   "outputs": [
    {
     "name": "stdout",
     "output_type": "stream",
     "text": [
      "\n",
      "==================================================\n",
      "ML-Assignment 4-Question 2-Section e)\n",
      "==================================================\n",
      "                      Test Statistic DF  Significance Association    Measure\n",
      "homeowner       Chi-square   6270.49  2             0     CramerV  0.0970864\n",
      "married_couple  Chi-square   699.285  2  1.41953e-152     CramerV  0.0324216\n",
      "group_size      Chi-square   977.276  6  7.34301e-208     CramerV   0.027102\n"
     ]
    }
   ],
   "source": [
    "print()\n",
    "print(\"=\" * 50)\n",
    "print(\"ML-Assignment 4-Question 2-Section e)\")\n",
    "print(\"=\" * 50)\n",
    "# e)\t(10 points) Calculate the Cramer’s V statistics for the above three crosstabulations tables.  Based on these Cramer’s V statistics, which feature has the largest association with the target A?\n",
    "test_result = pandas.DataFrame(index = cat_pred, columns = ['Test', 'Statistic', 'DF', 'Significance', 'Association', 'Measure'])\n",
    "for pred in cat_pred:\n",
    "    chi_sq_stat, chi_sq_df, chi_sq_sig, cramer_v = chi_square_test(purchase_likelihood[pred], purchase_likelihood['A'], debug = 'N')\n",
    "    test_result.loc[pred] = ['Chi-square', chi_sq_stat, chi_sq_df, chi_sq_sig, 'Cramer''V', cramer_v]\n",
    "rank_assoc = test_result.sort_values('Measure', axis = 0, ascending = False)\n",
    "print(rank_assoc)"
   ]
  },
  {
   "cell_type": "code",
   "execution_count": 52,
   "metadata": {},
   "outputs": [],
   "source": [
    "# train naive baues model\n",
    "xTrain = purchase_likelihood[cat_pred].astype('category')\n",
    "yTrain = purchase_likelihood['A'].astype('category')\n",
    "\n",
    "_objNB = naive_bayes.MultinomialNB(alpha = 1.0e-10)\n",
    "thisFit = _objNB.fit(xTrain, yTrain)"
   ]
  },
  {
   "cell_type": "code",
   "execution_count": 54,
   "metadata": {},
   "outputs": [
    {
     "name": "stdout",
     "output_type": "stream",
     "text": [
      "\n",
      "==================================================\n",
      "ML-Assignment 4-Question 2-Section g)\n",
      "==================================================\n",
      "   group_size homeowner married_couple     p_a_0     p_a_1     p_a_2\n",
      "0           1         0              0  0.227037  0.627593  0.145370\n",
      "1           1         0              1  0.214391  0.637467  0.148142\n",
      "2           1         1              0  0.205588  0.654128  0.140284\n",
      "3           1         1              1  0.193842  0.663414  0.142744\n",
      "4           2         0              0  0.238441  0.614462  0.147097\n",
      "5           2         0              1  0.225342  0.624635  0.150024\n",
      "6           2         1              0  0.216281  0.641528  0.142192\n",
      "7           2         1              1  0.204079  0.651128  0.144794\n",
      "8           3         0              0  0.250201  0.601084  0.148715\n",
      "9           3         0              1  0.236653  0.611546  0.151801\n",
      "10          3         1              0  0.227342  0.628652  0.144006\n",
      "11          3         1              1  0.214684  0.638559  0.146756\n",
      "12          4         0              0  0.262308  0.587475  0.150218\n",
      "13          4         0              1  0.248318  0.598215  0.153467\n",
      "14          4         1              0  0.238767  0.615513  0.145720\n",
      "15          4         1              1  0.225656  0.625720  0.148624\n"
     ]
    }
   ],
   "source": [
    "print()\n",
    "print(\"=\" * 50)\n",
    "print(\"ML-Assignment 4-Question 2-Section g)\")\n",
    "print(\"=\" * 50)\n",
    "# g)\t(10 points) For each of the sixteen possible value combinations of the three features, calculate the predicted probabilities for A = 0, 1, 2 based on the Naïve Bayes model.  List your answers in a table with proper labelling.\n",
    "# Create the all possible combinations of the features' values\n",
    "gs_d = [1,2,3,4]\n",
    "ho_d = [0,1]\n",
    "mc_d = [0,1]\n",
    "A_d = [0,1,2]\n",
    "final_data = []\n",
    "for gsd in gs_d:\n",
    "    for hod in ho_d:\n",
    "        for mcd in mc_d:\n",
    "            data = [gsd,hod,mcd]\n",
    "            final_data = final_data + [data]\n",
    "x_test = pandas.DataFrame(final_data, columns=['group_size','homeowner','married_couple'])\n",
    "x_test = x_test[cat_pred].astype('category')\n",
    "# predict probabities for all combinations\n",
    "y_test_pred_prob = pandas.DataFrame(_objNB.predict_proba(x_test), columns = ['p_a_0', 'p_a_1','p_a_2'])\n",
    "y_test_score = pandas.concat([x_test, y_test_pred_prob], axis = 1)                                          \n",
    "print(y_test_score)"
   ]
  },
  {
   "cell_type": "code",
   "execution_count": 55,
   "metadata": {},
   "outputs": [
    {
     "name": "stdout",
     "output_type": "stream",
     "text": [
      "\n",
      "==================================================\n",
      "ML-Assignment 4-Question 2-Section g)\n",
      "==================================================\n",
      "   group_size homeowner married_couple  odd value(p_a_1/p_a_0)\n",
      "0           1         0              0                2.764273\n",
      "1           1         0              1                2.973389\n",
      "2           1         1              0                3.181743\n",
      "3           1         1              1                3.422441\n",
      "4           2         0              0                2.576994\n",
      "5           2         0              1                2.771943\n",
      "6           2         1              0                2.966181\n",
      "7           2         1              1                3.190572\n",
      "8           3         0              0                2.402403\n",
      "9           3         0              1                2.584145\n",
      "10          3         1              0                2.765223\n",
      "11          3         1              1                2.974412\n",
      "12          4         0              0                2.239641\n",
      "13          4         0              1                2.409070\n",
      "14          4         1              0                2.577880\n",
      "15          4         1              1                2.772896\n",
      "group_size                       1\n",
      "homeowner                        1\n",
      "married_couple                   1\n",
      "p_a_0                     0.193842\n",
      "p_a_1                     0.663414\n",
      "p_a_2                     0.142744\n",
      "odd value(p_a_1/p_a_0)     3.42244\n",
      "Name: 3, dtype: object\n"
     ]
    }
   ],
   "source": [
    "print()\n",
    "print(\"=\" * 50)\n",
    "print(\"ML-Assignment 4-Question 2-Section g)\")\n",
    "print(\"=\" * 50)\n",
    "# h)\t(5 points) Based on your model, what values of group_size, homeowner, and married_couple will maximize the odds value Prob(A=1) / Prob(A = 0)?  What is that maximum odd value?\n",
    "y_test_score['odd value(p_a_1/p_a_0)'] = y_test_score['p_a_1'] / y_test_score['p_a_0']\n",
    "print(y_test_score[['group_size','homeowner','married_couple','odd value(p_a_1/p_a_0)']])\n",
    "print(y_test_score.loc[y_test_score['odd value(p_a_1/p_a_0)'].idxmax()])"
   ]
  }
 ],
 "metadata": {
  "kernelspec": {
   "display_name": "Python 3",
   "language": "python",
   "name": "python3"
  },
  "language_info": {
   "codemirror_mode": {
    "name": "ipython",
    "version": 3
   },
   "file_extension": ".py",
   "mimetype": "text/x-python",
   "name": "python",
   "nbconvert_exporter": "python",
   "pygments_lexer": "ipython3",
   "version": "3.7.3"
  }
 },
 "nbformat": 4,
 "nbformat_minor": 2
}
